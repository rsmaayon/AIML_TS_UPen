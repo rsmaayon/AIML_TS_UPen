{
 "cells": [
  {
   "cell_type": "markdown",
   "id": "61d2211e",
   "metadata": {
    "deletable": false,
    "editable": false,
    "nbgrader": {
     "cell_type": "markdown",
     "checksum": "419df037d8aa3af5acb094e2c02c0dad",
     "grade": false,
     "grade_id": "cell-md-1",
     "locked": true,
     "schema_version": 3,
     "solution": false,
     "task": false
    }
   },
   "source": [
    "# Assignment 3"
   ]
  },
  {
   "cell_type": "markdown",
   "id": "f9f70e57",
   "metadata": {
    "deletable": false,
    "editable": false,
    "nbgrader": {
     "cell_type": "markdown",
     "checksum": "363f0a092469ab08663e7ae1db9847b3",
     "grade": false,
     "grade_id": "cell-md-2",
     "locked": true,
     "schema_version": 3,
     "solution": false,
     "task": false
    }
   },
   "source": [
    "## Imports\n",
    "It is important for all (or most) imports to go on the top of a notebook so that other users know which packages need to be installed. In projects that use Anaconda, it is also common to see a file named requirements.txt listing all the packages that one has to install.\n",
    "\n",
    "First, let's import all the necessary modules using the import function. For this exercise, we will continue to use pandas, numpy, and matplotlib. We will also be uisng statsmodels to conduct statistical analysis. \n",
    "\n",
    "To learn more about these packages, you can read through the documentation:  \n",
    "https://pandas.pydata.org/  \n",
    "https://numpy.org/  \n",
    "https://matplotlib.org/  \n",
    "https://www.statsmodels.org/stable/index.html  "
   ]
  },
  {
   "cell_type": "code",
   "execution_count": 1,
   "id": "2712fe97",
   "metadata": {
    "deletable": false,
    "editable": false,
    "nbgrader": {
     "cell_type": "code",
     "checksum": "c0b30a8d341586ed37e7f5ed5611fa14",
     "grade": false,
     "grade_id": "cell-59464e37b95dcc77",
     "locked": true,
     "schema_version": 3,
     "solution": false,
     "task": false
    }
   },
   "outputs": [],
   "source": [
    "# Let's import the relevant Python packages here\n",
    "# Feel free to import any other packages for this project\n",
    "\n",
    "# Data Wrangling\n",
    "import pandas as pd\n",
    "import numpy as np\n",
    "\n",
    "# Statistics\n",
    "import statsmodels.formula.api as smf\n",
    "import statsmodels.api as sm\n",
    "\n",
    "# Plotting\n",
    "import matplotlib.pyplot as plt\n",
    "\n",
    "%matplotlib inline"
   ]
  },
  {
   "cell_type": "markdown",
   "id": "31c435b5",
   "metadata": {
    "deletable": false,
    "editable": false,
    "nbgrader": {
     "cell_type": "markdown",
     "checksum": "f4347902c12484691fa8951b63402991",
     "grade": false,
     "grade_id": "cell-md-3",
     "locked": true,
     "schema_version": 3,
     "solution": false,
     "task": false
    }
   },
   "source": [
    "## Data\n",
    "This dataset contains 1,089 weekly stock market percentage returns for 21 years, from the beginning of 1990 to the end of 2010.\n",
    "\n",
    "| Column | Description |\n",
    "|:-|:-|\n",
    "|Year | The year that the observation was recorded|\n",
    "|Lag1 | Percentage return for the previous week|\n",
    "|Lag2 | Percentage return for the previous 2 weeks|\n",
    "|Lag3 | Percentage return for the previous 3 weeks|\n",
    "|Lag4 | Percentage return for the previous 4 weeks|\n",
    "|Lag5 | Percentage return for the previous 5 weeks|\n",
    "|Volume | Volume of shares traded (average number of daily shares traded in billions)|\n",
    "|Today | Percentage return for this week|\n",
    "|Direction | A factor with levels Down and Up indicating whether the market had a positive or negative return on a given week|"
   ]
  },
  {
   "cell_type": "markdown",
   "id": "60a187f2",
   "metadata": {
    "deletable": false,
    "editable": false,
    "nbgrader": {
     "cell_type": "markdown",
     "checksum": "b59feed926cca13a84cf0964f5463ed0",
     "grade": false,
     "grade_id": "cell-f6355dfcf3c2cccf",
     "locked": true,
     "schema_version": 3,
     "solution": false,
     "task": false
    }
   },
   "source": [
    "Once again, we will begin by loading the dataset using pandas"
   ]
  },
  {
   "cell_type": "code",
   "execution_count": 2,
   "id": "0ac91382",
   "metadata": {
    "deletable": false,
    "editable": false,
    "nbgrader": {
     "cell_type": "code",
     "checksum": "1979d46694d8022b06d3cbc2b08bf271",
     "grade": false,
     "grade_id": "cell-703b82f754f5a0a2",
     "locked": true,
     "schema_version": 3,
     "solution": false,
     "task": false
    }
   },
   "outputs": [
    {
     "data": {
      "text/html": [
       "<div>\n",
       "<style scoped>\n",
       "    .dataframe tbody tr th:only-of-type {\n",
       "        vertical-align: middle;\n",
       "    }\n",
       "\n",
       "    .dataframe tbody tr th {\n",
       "        vertical-align: top;\n",
       "    }\n",
       "\n",
       "    .dataframe thead th {\n",
       "        text-align: right;\n",
       "    }\n",
       "</style>\n",
       "<table border=\"1\" class=\"dataframe\">\n",
       "  <thead>\n",
       "    <tr style=\"text-align: right;\">\n",
       "      <th></th>\n",
       "      <th>Year</th>\n",
       "      <th>Lag1</th>\n",
       "      <th>Lag2</th>\n",
       "      <th>Lag3</th>\n",
       "      <th>Lag4</th>\n",
       "      <th>Lag5</th>\n",
       "      <th>Volume</th>\n",
       "      <th>Today</th>\n",
       "      <th>Direction</th>\n",
       "    </tr>\n",
       "  </thead>\n",
       "  <tbody>\n",
       "    <tr>\n",
       "      <th>0</th>\n",
       "      <td>1990</td>\n",
       "      <td>0.816</td>\n",
       "      <td>1.572</td>\n",
       "      <td>-3.936</td>\n",
       "      <td>-0.229</td>\n",
       "      <td>-3.484</td>\n",
       "      <td>0.154976</td>\n",
       "      <td>-0.270</td>\n",
       "      <td>Down</td>\n",
       "    </tr>\n",
       "    <tr>\n",
       "      <th>1</th>\n",
       "      <td>1990</td>\n",
       "      <td>-0.270</td>\n",
       "      <td>0.816</td>\n",
       "      <td>1.572</td>\n",
       "      <td>-3.936</td>\n",
       "      <td>-0.229</td>\n",
       "      <td>0.148574</td>\n",
       "      <td>-2.576</td>\n",
       "      <td>Down</td>\n",
       "    </tr>\n",
       "    <tr>\n",
       "      <th>2</th>\n",
       "      <td>1990</td>\n",
       "      <td>-2.576</td>\n",
       "      <td>-0.270</td>\n",
       "      <td>0.816</td>\n",
       "      <td>1.572</td>\n",
       "      <td>-3.936</td>\n",
       "      <td>0.159837</td>\n",
       "      <td>3.514</td>\n",
       "      <td>Up</td>\n",
       "    </tr>\n",
       "    <tr>\n",
       "      <th>3</th>\n",
       "      <td>1990</td>\n",
       "      <td>3.514</td>\n",
       "      <td>-2.576</td>\n",
       "      <td>-0.270</td>\n",
       "      <td>0.816</td>\n",
       "      <td>1.572</td>\n",
       "      <td>0.161630</td>\n",
       "      <td>0.712</td>\n",
       "      <td>Up</td>\n",
       "    </tr>\n",
       "    <tr>\n",
       "      <th>4</th>\n",
       "      <td>1990</td>\n",
       "      <td>0.712</td>\n",
       "      <td>3.514</td>\n",
       "      <td>-2.576</td>\n",
       "      <td>-0.270</td>\n",
       "      <td>0.816</td>\n",
       "      <td>0.153728</td>\n",
       "      <td>1.178</td>\n",
       "      <td>Up</td>\n",
       "    </tr>\n",
       "  </tbody>\n",
       "</table>\n",
       "</div>"
      ],
      "text/plain": [
       "   Year   Lag1   Lag2   Lag3   Lag4   Lag5    Volume  Today Direction\n",
       "0  1990  0.816  1.572 -3.936 -0.229 -3.484  0.154976 -0.270      Down\n",
       "1  1990 -0.270  0.816  1.572 -3.936 -0.229  0.148574 -2.576      Down\n",
       "2  1990 -2.576 -0.270  0.816  1.572 -3.936  0.159837  3.514        Up\n",
       "3  1990  3.514 -2.576 -0.270  0.816  1.572  0.161630  0.712        Up\n",
       "4  1990  0.712  3.514 -2.576 -0.270  0.816  0.153728  1.178        Up"
      ]
     },
     "execution_count": 2,
     "metadata": {},
     "output_type": "execute_result"
    }
   ],
   "source": [
    "weekly = pd.read_csv(\"Weekly.csv\")\n",
    "weekly.head()"
   ]
  },
  {
   "cell_type": "code",
   "execution_count": 4,
   "id": "241557f8",
   "metadata": {},
   "outputs": [],
   "source": [
    "from sklearn.preprocessing import LabelEncoder\n",
    "\n",
    "import seaborn as sns"
   ]
  },
  {
   "cell_type": "markdown",
   "id": "4bdd28ff",
   "metadata": {
    "deletable": false,
    "editable": false,
    "nbgrader": {
     "cell_type": "markdown",
     "checksum": "da14f6ca87e37c4e772ccc270cea9feb",
     "grade": false,
     "grade_id": "cell-md-5",
     "locked": true,
     "schema_version": 3,
     "solution": false,
     "task": false
    }
   },
   "source": [
    "1. First, transform our `Direction` variable into a numerical feature that is equal to 1 if `Direction = Up`."
   ]
  },
  {
   "cell_type": "code",
   "execution_count": 5,
   "id": "e39a8a19",
   "metadata": {
    "deletable": false,
    "nbgrader": {
     "cell_type": "code",
     "checksum": "92d08dd031837eb51d23b9f4a7b2b740",
     "grade": false,
     "grade_id": "cell-solution-1",
     "locked": false,
     "schema_version": 3,
     "solution": true,
     "task": false
    }
   },
   "outputs": [
    {
     "data": {
      "text/html": [
       "<div>\n",
       "<style scoped>\n",
       "    .dataframe tbody tr th:only-of-type {\n",
       "        vertical-align: middle;\n",
       "    }\n",
       "\n",
       "    .dataframe tbody tr th {\n",
       "        vertical-align: top;\n",
       "    }\n",
       "\n",
       "    .dataframe thead th {\n",
       "        text-align: right;\n",
       "    }\n",
       "</style>\n",
       "<table border=\"1\" class=\"dataframe\">\n",
       "  <thead>\n",
       "    <tr style=\"text-align: right;\">\n",
       "      <th></th>\n",
       "      <th>Year</th>\n",
       "      <th>Lag1</th>\n",
       "      <th>Lag2</th>\n",
       "      <th>Lag3</th>\n",
       "      <th>Lag4</th>\n",
       "      <th>Lag5</th>\n",
       "      <th>Volume</th>\n",
       "      <th>Today</th>\n",
       "      <th>Direction</th>\n",
       "    </tr>\n",
       "  </thead>\n",
       "  <tbody>\n",
       "    <tr>\n",
       "      <th>0</th>\n",
       "      <td>1990</td>\n",
       "      <td>0.816</td>\n",
       "      <td>1.572</td>\n",
       "      <td>-3.936</td>\n",
       "      <td>-0.229</td>\n",
       "      <td>-3.484</td>\n",
       "      <td>0.154976</td>\n",
       "      <td>-0.270</td>\n",
       "      <td>0</td>\n",
       "    </tr>\n",
       "    <tr>\n",
       "      <th>1</th>\n",
       "      <td>1990</td>\n",
       "      <td>-0.270</td>\n",
       "      <td>0.816</td>\n",
       "      <td>1.572</td>\n",
       "      <td>-3.936</td>\n",
       "      <td>-0.229</td>\n",
       "      <td>0.148574</td>\n",
       "      <td>-2.576</td>\n",
       "      <td>0</td>\n",
       "    </tr>\n",
       "    <tr>\n",
       "      <th>2</th>\n",
       "      <td>1990</td>\n",
       "      <td>-2.576</td>\n",
       "      <td>-0.270</td>\n",
       "      <td>0.816</td>\n",
       "      <td>1.572</td>\n",
       "      <td>-3.936</td>\n",
       "      <td>0.159837</td>\n",
       "      <td>3.514</td>\n",
       "      <td>1</td>\n",
       "    </tr>\n",
       "    <tr>\n",
       "      <th>3</th>\n",
       "      <td>1990</td>\n",
       "      <td>3.514</td>\n",
       "      <td>-2.576</td>\n",
       "      <td>-0.270</td>\n",
       "      <td>0.816</td>\n",
       "      <td>1.572</td>\n",
       "      <td>0.161630</td>\n",
       "      <td>0.712</td>\n",
       "      <td>1</td>\n",
       "    </tr>\n",
       "    <tr>\n",
       "      <th>4</th>\n",
       "      <td>1990</td>\n",
       "      <td>0.712</td>\n",
       "      <td>3.514</td>\n",
       "      <td>-2.576</td>\n",
       "      <td>-0.270</td>\n",
       "      <td>0.816</td>\n",
       "      <td>0.153728</td>\n",
       "      <td>1.178</td>\n",
       "      <td>1</td>\n",
       "    </tr>\n",
       "  </tbody>\n",
       "</table>\n",
       "</div>"
      ],
      "text/plain": [
       "   Year   Lag1   Lag2   Lag3   Lag4   Lag5    Volume  Today  Direction\n",
       "0  1990  0.816  1.572 -3.936 -0.229 -3.484  0.154976 -0.270          0\n",
       "1  1990 -0.270  0.816  1.572 -3.936 -0.229  0.148574 -2.576          0\n",
       "2  1990 -2.576 -0.270  0.816  1.572 -3.936  0.159837  3.514          1\n",
       "3  1990  3.514 -2.576 -0.270  0.816  1.572  0.161630  0.712          1\n",
       "4  1990  0.712  3.514 -2.576 -0.270  0.816  0.153728  1.178          1"
      ]
     },
     "execution_count": 5,
     "metadata": {},
     "output_type": "execute_result"
    }
   ],
   "source": [
    "# your code here\n",
    "le = LabelEncoder()\n",
    "\n",
    "weekly[\"Direction\"] = le.fit_transform(weekly.Direction)\n",
    "\n",
    "weekly.head()"
   ]
  },
  {
   "cell_type": "markdown",
   "id": "4d206cef",
   "metadata": {
    "deletable": false,
    "editable": false,
    "nbgrader": {
     "cell_type": "markdown",
     "checksum": "176fbdec3a56320c07a9ab16af6c9132",
     "grade": false,
     "grade_id": "cell-md-6",
     "locked": true,
     "schema_version": 3,
     "solution": false,
     "task": false
    }
   },
   "source": [
    "You may now want to produce several numerical and graphical summaries of the `Weekly` data and check for patterns (Hint: see if you can find a correlation between `Year` and `Volume)`"
   ]
  },
  {
   "cell_type": "code",
   "execution_count": 6,
   "id": "66c6a80e",
   "metadata": {
    "deletable": false,
    "nbgrader": {
     "cell_type": "code",
     "checksum": "18b11a836190515361fd040e3b70958e",
     "grade": false,
     "grade_id": "cell-solution-2",
     "locked": false,
     "schema_version": 3,
     "solution": true,
     "task": false
    }
   },
   "outputs": [
    {
     "data": {
      "text/html": [
       "<div>\n",
       "<style scoped>\n",
       "    .dataframe tbody tr th:only-of-type {\n",
       "        vertical-align: middle;\n",
       "    }\n",
       "\n",
       "    .dataframe tbody tr th {\n",
       "        vertical-align: top;\n",
       "    }\n",
       "\n",
       "    .dataframe thead th {\n",
       "        text-align: right;\n",
       "    }\n",
       "</style>\n",
       "<table border=\"1\" class=\"dataframe\">\n",
       "  <thead>\n",
       "    <tr style=\"text-align: right;\">\n",
       "      <th></th>\n",
       "      <th>Year</th>\n",
       "      <th>Lag1</th>\n",
       "      <th>Lag2</th>\n",
       "      <th>Lag3</th>\n",
       "      <th>Lag4</th>\n",
       "      <th>Lag5</th>\n",
       "      <th>Volume</th>\n",
       "      <th>Today</th>\n",
       "      <th>Direction</th>\n",
       "    </tr>\n",
       "  </thead>\n",
       "  <tbody>\n",
       "    <tr>\n",
       "      <th>Year</th>\n",
       "      <td>1.000000</td>\n",
       "      <td>-0.032289</td>\n",
       "      <td>-0.033390</td>\n",
       "      <td>-0.030006</td>\n",
       "      <td>-0.031128</td>\n",
       "      <td>-0.030519</td>\n",
       "      <td>0.841942</td>\n",
       "      <td>-0.032460</td>\n",
       "      <td>-0.022200</td>\n",
       "    </tr>\n",
       "    <tr>\n",
       "      <th>Lag1</th>\n",
       "      <td>-0.032289</td>\n",
       "      <td>1.000000</td>\n",
       "      <td>-0.074853</td>\n",
       "      <td>0.058636</td>\n",
       "      <td>-0.071274</td>\n",
       "      <td>-0.008183</td>\n",
       "      <td>-0.064951</td>\n",
       "      <td>-0.075032</td>\n",
       "      <td>-0.050004</td>\n",
       "    </tr>\n",
       "    <tr>\n",
       "      <th>Lag2</th>\n",
       "      <td>-0.033390</td>\n",
       "      <td>-0.074853</td>\n",
       "      <td>1.000000</td>\n",
       "      <td>-0.075721</td>\n",
       "      <td>0.058382</td>\n",
       "      <td>-0.072499</td>\n",
       "      <td>-0.085513</td>\n",
       "      <td>0.059167</td>\n",
       "      <td>0.072696</td>\n",
       "    </tr>\n",
       "    <tr>\n",
       "      <th>Lag3</th>\n",
       "      <td>-0.030006</td>\n",
       "      <td>0.058636</td>\n",
       "      <td>-0.075721</td>\n",
       "      <td>1.000000</td>\n",
       "      <td>-0.075396</td>\n",
       "      <td>0.060657</td>\n",
       "      <td>-0.069288</td>\n",
       "      <td>-0.071244</td>\n",
       "      <td>-0.022913</td>\n",
       "    </tr>\n",
       "    <tr>\n",
       "      <th>Lag4</th>\n",
       "      <td>-0.031128</td>\n",
       "      <td>-0.071274</td>\n",
       "      <td>0.058382</td>\n",
       "      <td>-0.075396</td>\n",
       "      <td>1.000000</td>\n",
       "      <td>-0.075675</td>\n",
       "      <td>-0.061075</td>\n",
       "      <td>-0.007826</td>\n",
       "      <td>-0.020549</td>\n",
       "    </tr>\n",
       "    <tr>\n",
       "      <th>Lag5</th>\n",
       "      <td>-0.030519</td>\n",
       "      <td>-0.008183</td>\n",
       "      <td>-0.072499</td>\n",
       "      <td>0.060657</td>\n",
       "      <td>-0.075675</td>\n",
       "      <td>1.000000</td>\n",
       "      <td>-0.058517</td>\n",
       "      <td>0.011013</td>\n",
       "      <td>-0.018168</td>\n",
       "    </tr>\n",
       "    <tr>\n",
       "      <th>Volume</th>\n",
       "      <td>0.841942</td>\n",
       "      <td>-0.064951</td>\n",
       "      <td>-0.085513</td>\n",
       "      <td>-0.069288</td>\n",
       "      <td>-0.061075</td>\n",
       "      <td>-0.058517</td>\n",
       "      <td>1.000000</td>\n",
       "      <td>-0.033078</td>\n",
       "      <td>-0.017995</td>\n",
       "    </tr>\n",
       "    <tr>\n",
       "      <th>Today</th>\n",
       "      <td>-0.032460</td>\n",
       "      <td>-0.075032</td>\n",
       "      <td>0.059167</td>\n",
       "      <td>-0.071244</td>\n",
       "      <td>-0.007826</td>\n",
       "      <td>0.011013</td>\n",
       "      <td>-0.033078</td>\n",
       "      <td>1.000000</td>\n",
       "      <td>0.720025</td>\n",
       "    </tr>\n",
       "    <tr>\n",
       "      <th>Direction</th>\n",
       "      <td>-0.022200</td>\n",
       "      <td>-0.050004</td>\n",
       "      <td>0.072696</td>\n",
       "      <td>-0.022913</td>\n",
       "      <td>-0.020549</td>\n",
       "      <td>-0.018168</td>\n",
       "      <td>-0.017995</td>\n",
       "      <td>0.720025</td>\n",
       "      <td>1.000000</td>\n",
       "    </tr>\n",
       "  </tbody>\n",
       "</table>\n",
       "</div>"
      ],
      "text/plain": [
       "               Year      Lag1      Lag2      Lag3      Lag4      Lag5  \\\n",
       "Year       1.000000 -0.032289 -0.033390 -0.030006 -0.031128 -0.030519   \n",
       "Lag1      -0.032289  1.000000 -0.074853  0.058636 -0.071274 -0.008183   \n",
       "Lag2      -0.033390 -0.074853  1.000000 -0.075721  0.058382 -0.072499   \n",
       "Lag3      -0.030006  0.058636 -0.075721  1.000000 -0.075396  0.060657   \n",
       "Lag4      -0.031128 -0.071274  0.058382 -0.075396  1.000000 -0.075675   \n",
       "Lag5      -0.030519 -0.008183 -0.072499  0.060657 -0.075675  1.000000   \n",
       "Volume     0.841942 -0.064951 -0.085513 -0.069288 -0.061075 -0.058517   \n",
       "Today     -0.032460 -0.075032  0.059167 -0.071244 -0.007826  0.011013   \n",
       "Direction -0.022200 -0.050004  0.072696 -0.022913 -0.020549 -0.018168   \n",
       "\n",
       "             Volume     Today  Direction  \n",
       "Year       0.841942 -0.032460  -0.022200  \n",
       "Lag1      -0.064951 -0.075032  -0.050004  \n",
       "Lag2      -0.085513  0.059167   0.072696  \n",
       "Lag3      -0.069288 -0.071244  -0.022913  \n",
       "Lag4      -0.061075 -0.007826  -0.020549  \n",
       "Lag5      -0.058517  0.011013  -0.018168  \n",
       "Volume     1.000000 -0.033078  -0.017995  \n",
       "Today     -0.033078  1.000000   0.720025  \n",
       "Direction -0.017995  0.720025   1.000000  "
      ]
     },
     "execution_count": 6,
     "metadata": {},
     "output_type": "execute_result"
    }
   ],
   "source": [
    "# your code here\n",
    "weekly.corr()"
   ]
  },
  {
   "cell_type": "markdown",
   "id": "ff5dc969",
   "metadata": {
    "deletable": false,
    "editable": false,
    "nbgrader": {
     "cell_type": "markdown",
     "checksum": "2307962438ec19a10e6088c58470cd8d",
     "grade": false,
     "grade_id": "cell-md-7",
     "locked": true,
     "schema_version": 3,
     "solution": false,
     "task": false
    }
   },
   "source": [
    "2. Use the full dataset to perform logistic regression with `Direction` as the response and the 5 `Lag` variables as predictors."
   ]
  },
  {
   "cell_type": "code",
   "execution_count": 7,
   "id": "a99af481",
   "metadata": {
    "deletable": false,
    "nbgrader": {
     "cell_type": "code",
     "checksum": "45993cc0301c01598f3fa7aa2e7d4c8b",
     "grade": false,
     "grade_id": "cell-solution-3",
     "locked": false,
     "schema_version": 3,
     "solution": true,
     "task": false
    }
   },
   "outputs": [
    {
     "data": {
      "image/png": "[encoded data removed]",
      "text/plain": [
       "<Figure size 640x480 with 1 Axes>"
      ]
     },
     "metadata": {},
     "output_type": "display_data"
    }
   ],
   "source": [
    "sns.lineplot(data=weekly, x=\"Year\", y=\"Volume\")\n",
    "plt.show()"
   ]
  },
  {
   "cell_type": "code",
   "execution_count": 8,
   "id": "763ff431",
   "metadata": {},
   "outputs": [],
   "source": [
    "formula = 'Direction ~ Lag1 + Lag2 + Lag3 + Lag4 + Lag5'"
   ]
  },
  {
   "cell_type": "markdown",
   "id": "2c3b8d43",
   "metadata": {
    "deletable": false,
    "editable": false,
    "nbgrader": {
     "cell_type": "markdown",
     "checksum": "0e37a638acc896d696f3e374a5805706",
     "grade": false,
     "grade_id": "cell-md-8",
     "locked": true,
     "schema_version": 3,
     "solution": false,
     "task": false
    }
   },
   "source": [
    "How many variables are statistically significant? Store your result in a variable named `num_significant`. (Hint: use the summary() function)"
   ]
  },
  {
   "cell_type": "code",
   "execution_count": 9,
   "id": "3e7d2ca5",
   "metadata": {},
   "outputs": [
    {
     "name": "stdout",
     "output_type": "stream",
     "text": [
      "Optimization terminated successfully.\n",
      "         Current function value: 0.682615\n",
      "         Iterations 4\n"
     ]
    }
   ],
   "source": [
    "model = smf.logit(formula, data=weekly).fit()"
   ]
  },
  {
   "cell_type": "code",
   "execution_count": 10,
   "id": "859b0ad3",
   "metadata": {},
   "outputs": [
    {
     "data": {
      "text/html": [
       "<table class=\"simpletable\">\n",
       "<caption>Logit Regression Results</caption>\n",
       "<tr>\n",
       "  <th>Dep. Variable:</th>       <td>Direction</td>    <th>  No. Observations:  </th>  <td>  1089</td> \n",
       "</tr>\n",
       "<tr>\n",
       "  <th>Model:</th>                 <td>Logit</td>      <th>  Df Residuals:      </th>  <td>  1083</td> \n",
       "</tr>\n",
       "<tr>\n",
       "  <th>Method:</th>                 <td>MLE</td>       <th>  Df Model:          </th>  <td>     5</td> \n",
       "</tr>\n",
       "<tr>\n",
       "  <th>Date:</th>            <td>Tue, 09 Jul 2024</td> <th>  Pseudo R-squ.:     </th> <td>0.006327</td>\n",
       "</tr>\n",
       "<tr>\n",
       "  <th>Time:</th>                <td>06:33:08</td>     <th>  Log-Likelihood:    </th> <td> -743.37</td>\n",
       "</tr>\n",
       "<tr>\n",
       "  <th>converged:</th>             <td>True</td>       <th>  LL-Null:           </th> <td> -748.10</td>\n",
       "</tr>\n",
       "<tr>\n",
       "  <th>Covariance Type:</th>     <td>nonrobust</td>    <th>  LLR p-value:       </th>  <td>0.09186</td>\n",
       "</tr>\n",
       "</table>\n",
       "<table class=\"simpletable\">\n",
       "<tr>\n",
       "      <td></td>         <th>coef</th>     <th>std err</th>      <th>z</th>      <th>P>|z|</th>  <th>[0.025</th>    <th>0.975]</th>  \n",
       "</tr>\n",
       "<tr>\n",
       "  <th>Intercept</th> <td>    0.2303</td> <td>    0.062</td> <td>    3.712</td> <td> 0.000</td> <td>    0.109</td> <td>    0.352</td>\n",
       "</tr>\n",
       "<tr>\n",
       "  <th>Lag1</th>      <td>   -0.0401</td> <td>    0.026</td> <td>   -1.522</td> <td> 0.128</td> <td>   -0.092</td> <td>    0.012</td>\n",
       "</tr>\n",
       "<tr>\n",
       "  <th>Lag2</th>      <td>    0.0602</td> <td>    0.027</td> <td>    2.249</td> <td> 0.025</td> <td>    0.008</td> <td>    0.113</td>\n",
       "</tr>\n",
       "<tr>\n",
       "  <th>Lag3</th>      <td>   -0.0151</td> <td>    0.027</td> <td>   -0.566</td> <td> 0.571</td> <td>   -0.067</td> <td>    0.037</td>\n",
       "</tr>\n",
       "<tr>\n",
       "  <th>Lag4</th>      <td>   -0.0268</td> <td>    0.026</td> <td>   -1.013</td> <td> 0.311</td> <td>   -0.079</td> <td>    0.025</td>\n",
       "</tr>\n",
       "<tr>\n",
       "  <th>Lag5</th>      <td>   -0.0135</td> <td>    0.026</td> <td>   -0.512</td> <td> 0.609</td> <td>   -0.065</td> <td>    0.038</td>\n",
       "</tr>\n",
       "</table>"
      ],
      "text/plain": [
       "<class 'statsmodels.iolib.summary.Summary'>\n",
       "\"\"\"\n",
       "                           Logit Regression Results                           \n",
       "==============================================================================\n",
       "Dep. Variable:              Direction   No. Observations:                 1089\n",
       "Model:                          Logit   Df Residuals:                     1083\n",
       "Method:                           MLE   Df Model:                            5\n",
       "Date:                Tue, 09 Jul 2024   Pseudo R-squ.:                0.006327\n",
       "Time:                        06:33:08   Log-Likelihood:                -743.37\n",
       "converged:                       True   LL-Null:                       -748.10\n",
       "Covariance Type:            nonrobust   LLR p-value:                   0.09186\n",
       "==============================================================================\n",
       "                 coef    std err          z      P>|z|      [0.025      0.975]\n",
       "------------------------------------------------------------------------------\n",
       "Intercept      0.2303      0.062      3.712      0.000       0.109       0.352\n",
       "Lag1          -0.0401      0.026     -1.522      0.128      -0.092       0.012\n",
       "Lag2           0.0602      0.027      2.249      0.025       0.008       0.113\n",
       "Lag3          -0.0151      0.027     -0.566      0.571      -0.067       0.037\n",
       "Lag4          -0.0268      0.026     -1.013      0.311      -0.079       0.025\n",
       "Lag5          -0.0135      0.026     -0.512      0.609      -0.065       0.038\n",
       "==============================================================================\n",
       "\"\"\""
      ]
     },
     "execution_count": 10,
     "metadata": {},
     "output_type": "execute_result"
    }
   ],
   "source": [
    "model.summary()"
   ]
  },
  {
   "cell_type": "code",
   "execution_count": 16,
   "id": "4d4a9a60",
   "metadata": {
    "deletable": false,
    "nbgrader": {
     "cell_type": "code",
     "checksum": "33e32e83f93de7a93ec5fafab501062f",
     "grade": false,
     "grade_id": "cell-solution-4",
     "locked": false,
     "schema_version": 3,
     "solution": true,
     "task": false
    }
   },
   "outputs": [],
   "source": [
    "num_significant = 1 # Save your solution in this variable\n",
    "# your code here\n"
   ]
  },
  {
   "cell_type": "code",
   "execution_count": 17,
   "id": "ab55d610",
   "metadata": {
    "deletable": false,
    "editable": false,
    "nbgrader": {
     "cell_type": "code",
     "checksum": "466fb7fca7359cd3e9748089df35c8da",
     "grade": true,
     "grade_id": "cell-test-1",
     "locked": true,
     "points": 10,
     "schema_version": 3,
     "solution": false,
     "task": false
    }
   },
   "outputs": [],
   "source": [
    "##########################\n",
    "### TEST YOUR SOLUTION ###\n",
    "##########################\n",
    "\n",
    "assert num_significant == 1, \"Wrong value for num_significant, try again..\""
   ]
  },
  {
   "cell_type": "markdown",
   "id": "8a9ba490",
   "metadata": {
    "deletable": false,
    "editable": false,
    "nbgrader": {
     "cell_type": "markdown",
     "checksum": "42b0e8c8b94b00e2c49d374f6994a48e",
     "grade": false,
     "grade_id": "cell-md-9",
     "locked": true,
     "schema_version": 3,
     "solution": false,
     "task": false
    }
   },
   "source": [
    "Save any variables that are statistically significant in a list named `var_significant`."
   ]
  },
  {
   "cell_type": "code",
   "execution_count": 18,
   "id": "40a44b61",
   "metadata": {
    "deletable": false,
    "nbgrader": {
     "cell_type": "code",
     "checksum": "33faf28c18d7aa57ed4cd470565e1d7e",
     "grade": false,
     "grade_id": "cell-solution-5",
     "locked": false,
     "schema_version": 3,
     "solution": true,
     "task": false
    }
   },
   "outputs": [],
   "source": [
    "var_significant = ['Lag2'] # Save your solution in this variable\n",
    "# your code here\n",
    "#raise NotImplementedError"
   ]
  },
  {
   "cell_type": "code",
   "execution_count": 19,
   "id": "39c9c9d4",
   "metadata": {
    "deletable": false,
    "editable": false,
    "nbgrader": {
     "cell_type": "code",
     "checksum": "50f34a77cc806029df80f2bc9d55c732",
     "grade": true,
     "grade_id": "cell-test-2",
     "locked": true,
     "points": 10,
     "schema_version": 3,
     "solution": false,
     "task": false
    }
   },
   "outputs": [],
   "source": [
    "##########################\n",
    "### TEST YOUR SOLUTION ###\n",
    "##########################\n",
    "\n",
    "assert len(var_significant) == 1, \"There should be num_significant entries in the list\"\n",
    "assert var_significant[0] == 'Lag2', \"That is not the correct variable, try again..\""
   ]
  },
  {
   "cell_type": "markdown",
   "id": "051a0244",
   "metadata": {
    "deletable": false,
    "editable": false,
    "nbgrader": {
     "cell_type": "markdown",
     "checksum": "811a9edb071334bcd0b96511cd5b7379",
     "grade": false,
     "grade_id": "cell-md-10",
     "locked": true,
     "schema_version": 3,
     "solution": false,
     "task": false
    }
   },
   "source": [
    "3. Compute the overall fraction of correct predictions. Store your result in a variable named `fraction_correct`."
   ]
  },
  {
   "cell_type": "code",
   "execution_count": 20,
   "id": "1bb4bb12",
   "metadata": {},
   "outputs": [],
   "source": [
    "# Predict the probabilities of being 'Up'\n",
    "weekly['pred_prob'] = model.predict(weekly)"
   ]
  },
  {
   "cell_type": "code",
   "execution_count": 21,
   "id": "31402941",
   "metadata": {},
   "outputs": [],
   "source": [
    "# Predict the class labels\n",
    "weekly['pred_label'] = (weekly['pred_prob'] > 0.5).astype(int)"
   ]
  },
  {
   "cell_type": "code",
   "execution_count": 22,
   "id": "739bcff8",
   "metadata": {
    "deletable": false,
    "nbgrader": {
     "cell_type": "code",
     "checksum": "24093c9a7142375d30ad779849d39db3",
     "grade": false,
     "grade_id": "cell-solution-6",
     "locked": false,
     "schema_version": 3,
     "solution": true,
     "task": false
    }
   },
   "outputs": [],
   "source": [
    "fraction_correct = None # Save your solution in this variable\n",
    "# your code here\n",
    "fraction_correct = (weekly['pred_label'] == weekly['Direction']).mean()"
   ]
  },
  {
   "cell_type": "code",
   "execution_count": 23,
   "id": "45fe01a9",
   "metadata": {
    "deletable": false,
    "editable": false,
    "nbgrader": {
     "cell_type": "code",
     "checksum": "524b84662e8ee43eb077ef3b8563c57e",
     "grade": true,
     "grade_id": "cell-test-3",
     "locked": true,
     "points": 20,
     "schema_version": 3,
     "solution": false,
     "task": false
    }
   },
   "outputs": [],
   "source": [
    "##########################\n",
    "### TEST YOUR SOLUTION ###\n",
    "##########################\n",
    "\n",
    "assert np.allclose(fraction_correct, 0.5629017447199265, .001), \"Incorrect result, try again.. (hint: use the predict() function)\""
   ]
  },
  {
   "cell_type": "markdown",
   "id": "f9f8c4c9",
   "metadata": {
    "deletable": false,
    "editable": false,
    "nbgrader": {
     "cell_type": "markdown",
     "checksum": "3b949af3fb36bacd395d854fde1f398e",
     "grade": false,
     "grade_id": "cell-md-11",
     "locked": true,
     "schema_version": 3,
     "solution": false,
     "task": false
    }
   },
   "source": [
    "5. Now fit the logistic regression model using a training data period from 1990 to 2007, with `Lag2` as the only predictor.\n",
    "\n",
    "Compute the overall fraction of correct predictions for the held out data (that is, the data from 2008, 2009 and 2010) and store it in a variable named `fraction_correct_test`. "
   ]
  },
  {
   "cell_type": "code",
   "execution_count": null,
   "id": "810d4cb9",
   "metadata": {},
   "outputs": [],
   "source": []
  },
  {
   "cell_type": "code",
   "execution_count": 26,
   "id": "73df8729",
   "metadata": {
    "deletable": false,
    "nbgrader": {
     "cell_type": "code",
     "checksum": "3c6640c3468cb54dabe7fd76009fa69b",
     "grade": false,
     "grade_id": "cell-solution-7",
     "locked": false,
     "schema_version": 3,
     "solution": true,
     "task": false
    }
   },
   "outputs": [
    {
     "name": "stdout",
     "output_type": "stream",
     "text": [
      "Optimization terminated successfully.\n",
      "         Current function value: 0.685159\n",
      "         Iterations 4\n"
     ]
    },
    {
     "data": {
      "text/plain": [
       "0.5512820512820513"
      ]
     },
     "execution_count": 26,
     "metadata": {},
     "output_type": "execute_result"
    }
   ],
   "source": [
    "### We have split the data for you\n",
    "train = weekly[weekly['Year'] <= 2007]\n",
    "test = weekly[weekly['Year'] > 2007]\n",
    "\n",
    "formula = 'Direction ~ Lag2'\n",
    "\n",
    "model = smf.logit(formula, data=train).fit()\n",
    "\n",
    "model.summary()\n",
    "test = test.copy()\n",
    "test['pred_prob'] = model.predict(test)\n",
    "test['pred_label'] = (test['pred_prob'] > 0.5).astype(int)\n",
    "fraction_correct_test = (test['pred_label'] == test['Direction']).mean()\n",
    "\n",
    "# your code here\n",
    "\n",
    "fraction_correct_test\n",
    "fraction_correct_test"
   ]
  },
  {
   "cell_type": "code",
   "execution_count": 27,
   "id": "d40efa22",
   "metadata": {
    "deletable": false,
    "editable": false,
    "nbgrader": {
     "cell_type": "code",
     "checksum": "a152393bb5cb6d50d115db135b2757e9",
     "grade": true,
     "grade_id": "cell-test-4",
     "locked": true,
     "points": 20,
     "schema_version": 3,
     "solution": false,
     "task": false
    }
   },
   "outputs": [],
   "source": [
    "##########################\n",
    "### TEST YOUR SOLUTION ###\n",
    "##########################\n",
    "\n",
    "assert np.allclose(fraction_correct_test, 0.5512820512820513, .001), \"Incorrect result, try again.. (hint: use the predict() function)\""
   ]
  },
  {
   "cell_type": "markdown",
   "id": "160787af",
   "metadata": {
    "deletable": false,
    "editable": false,
    "nbgrader": {
     "cell_type": "markdown",
     "checksum": "611c9015748ef9b0dadaaaafd93a1236",
     "grade": false,
     "grade_id": "cell-md-12",
     "locked": true,
     "schema_version": 3,
     "solution": false,
     "task": false
    }
   },
   "source": [
    "Now, we want to develop an investment strategy in which we buy if the returns are greater than\n",
    "$0.5\\%$ and sell otherwise."
   ]
  },
  {
   "cell_type": "markdown",
   "id": "bf75caf6",
   "metadata": {
    "deletable": false,
    "editable": false,
    "nbgrader": {
     "cell_type": "markdown",
     "checksum": "340f865705ad272e96ffe6ab124d8b95",
     "grade": false,
     "grade_id": "cell-md-13",
     "locked": true,
     "schema_version": 3,
     "solution": false,
     "task": false
    }
   },
   "source": [
    "6. Create a response variable named `Response` such that\n",
    "\n",
    "$$\n",
    "\\text{Response}_i = \\begin{cases}\n",
    "1 \\text{ if Today } > 0.5 &\\\\\n",
    "0 \\text{ otherwise }\n",
    "\\end{cases}\n",
    "$$"
   ]
  },
  {
   "cell_type": "code",
   "execution_count": 29,
   "id": "1616da27",
   "metadata": {
    "deletable": false,
    "nbgrader": {
     "cell_type": "code",
     "checksum": "eac2010795157e2e00ea739a045a46ad",
     "grade": false,
     "grade_id": "cell-solution-8",
     "locked": false,
     "schema_version": 3,
     "solution": true,
     "task": false
    }
   },
   "outputs": [
    {
     "data": {
      "text/html": [
       "<div>\n",
       "<style scoped>\n",
       "    .dataframe tbody tr th:only-of-type {\n",
       "        vertical-align: middle;\n",
       "    }\n",
       "\n",
       "    .dataframe tbody tr th {\n",
       "        vertical-align: top;\n",
       "    }\n",
       "\n",
       "    .dataframe thead th {\n",
       "        text-align: right;\n",
       "    }\n",
       "</style>\n",
       "<table border=\"1\" class=\"dataframe\">\n",
       "  <thead>\n",
       "    <tr style=\"text-align: right;\">\n",
       "      <th></th>\n",
       "      <th>Year</th>\n",
       "      <th>Lag1</th>\n",
       "      <th>Lag2</th>\n",
       "      <th>Lag3</th>\n",
       "      <th>Lag4</th>\n",
       "      <th>Lag5</th>\n",
       "      <th>Volume</th>\n",
       "      <th>Today</th>\n",
       "      <th>Direction</th>\n",
       "      <th>pred_prob</th>\n",
       "      <th>pred_label</th>\n",
       "      <th>Response</th>\n",
       "    </tr>\n",
       "  </thead>\n",
       "  <tbody>\n",
       "    <tr>\n",
       "      <th>0</th>\n",
       "      <td>1990</td>\n",
       "      <td>0.816</td>\n",
       "      <td>1.572</td>\n",
       "      <td>-3.936</td>\n",
       "      <td>-0.229</td>\n",
       "      <td>-3.484</td>\n",
       "      <td>0.154976</td>\n",
       "      <td>-0.270</td>\n",
       "      <td>0</td>\n",
       "      <td>0.599794</td>\n",
       "      <td>1</td>\n",
       "      <td>0</td>\n",
       "    </tr>\n",
       "    <tr>\n",
       "      <th>1</th>\n",
       "      <td>1990</td>\n",
       "      <td>-0.270</td>\n",
       "      <td>0.816</td>\n",
       "      <td>1.572</td>\n",
       "      <td>-3.936</td>\n",
       "      <td>-0.229</td>\n",
       "      <td>0.148574</td>\n",
       "      <td>-2.576</td>\n",
       "      <td>0</td>\n",
       "      <td>0.592654</td>\n",
       "      <td>1</td>\n",
       "      <td>0</td>\n",
       "    </tr>\n",
       "    <tr>\n",
       "      <th>2</th>\n",
       "      <td>1990</td>\n",
       "      <td>-2.576</td>\n",
       "      <td>-0.270</td>\n",
       "      <td>0.816</td>\n",
       "      <td>1.572</td>\n",
       "      <td>-3.936</td>\n",
       "      <td>0.159837</td>\n",
       "      <td>3.514</td>\n",
       "      <td>1</td>\n",
       "      <td>0.578358</td>\n",
       "      <td>1</td>\n",
       "      <td>1</td>\n",
       "    </tr>\n",
       "    <tr>\n",
       "      <th>3</th>\n",
       "      <td>1990</td>\n",
       "      <td>3.514</td>\n",
       "      <td>-2.576</td>\n",
       "      <td>-0.270</td>\n",
       "      <td>0.816</td>\n",
       "      <td>1.572</td>\n",
       "      <td>0.161630</td>\n",
       "      <td>0.712</td>\n",
       "      <td>1</td>\n",
       "      <td>0.473890</td>\n",
       "      <td>0</td>\n",
       "      <td>1</td>\n",
       "    </tr>\n",
       "    <tr>\n",
       "      <th>4</th>\n",
       "      <td>1990</td>\n",
       "      <td>0.712</td>\n",
       "      <td>3.514</td>\n",
       "      <td>-2.576</td>\n",
       "      <td>-0.270</td>\n",
       "      <td>0.816</td>\n",
       "      <td>0.153728</td>\n",
       "      <td>1.178</td>\n",
       "      <td>1</td>\n",
       "      <td>0.610207</td>\n",
       "      <td>1</td>\n",
       "      <td>1</td>\n",
       "    </tr>\n",
       "  </tbody>\n",
       "</table>\n",
       "</div>"
      ],
      "text/plain": [
       "   Year   Lag1   Lag2   Lag3   Lag4   Lag5    Volume  Today  Direction  \\\n",
       "0  1990  0.816  1.572 -3.936 -0.229 -3.484  0.154976 -0.270          0   \n",
       "1  1990 -0.270  0.816  1.572 -3.936 -0.229  0.148574 -2.576          0   \n",
       "2  1990 -2.576 -0.270  0.816  1.572 -3.936  0.159837  3.514          1   \n",
       "3  1990  3.514 -2.576 -0.270  0.816  1.572  0.161630  0.712          1   \n",
       "4  1990  0.712  3.514 -2.576 -0.270  0.816  0.153728  1.178          1   \n",
       "\n",
       "   pred_prob  pred_label  Response  \n",
       "0   0.599794           1         0  \n",
       "1   0.592654           1         0  \n",
       "2   0.578358           1         1  \n",
       "3   0.473890           0         1  \n",
       "4   0.610207           1         1  "
      ]
     },
     "execution_count": 29,
     "metadata": {},
     "output_type": "execute_result"
    }
   ],
   "source": [
    "# your code here\n",
    "weekly['Response'] = (weekly['Today'] > 0.5).astype(int)\n",
    "\n",
    "weekly.head()"
   ]
  },
  {
   "cell_type": "markdown",
   "id": "4a9cae87",
   "metadata": {
    "deletable": false,
    "editable": false,
    "nbgrader": {
     "cell_type": "markdown",
     "checksum": "a933cdcd992fa73d9e92695ad9bfbba5",
     "grade": false,
     "grade_id": "cell-md-14",
     "locked": true,
     "schema_version": 3,
     "solution": false,
     "task": false
    }
   },
   "source": [
    "7.  Fit a logistic regression model to predict `Response` using a training data period from 1990 to 2008, with the five lag variables and volume as predictors."
   ]
  },
  {
   "cell_type": "code",
   "execution_count": 30,
   "id": "519c772f",
   "metadata": {
    "deletable": false,
    "nbgrader": {
     "cell_type": "code",
     "checksum": "198d9797ccc5613132910a8dbf32e1e3",
     "grade": false,
     "grade_id": "cell-solution-9",
     "locked": false,
     "schema_version": 3,
     "solution": true,
     "task": false
    }
   },
   "outputs": [],
   "source": [
    "### We have split the data for you\n",
    "train = weekly[weekly['Year'] <= 2008]\n",
    "test = weekly[weekly['Year'] > 2008]\n",
    "\n",
    "# your code here\n",
    "# Define the formula for the model\n",
    "formula = 'Response ~ Lag1 + Lag2 + Lag3 + Lag4 + Lag5 + Volume'"
   ]
  },
  {
   "cell_type": "code",
   "execution_count": 31,
   "id": "2ff404b0",
   "metadata": {},
   "outputs": [
    {
     "name": "stdout",
     "output_type": "stream",
     "text": [
      "Optimization terminated successfully.\n",
      "         Current function value: 0.681276\n",
      "         Iterations 4\n"
     ]
    },
    {
     "data": {
      "text/html": [
       "<table class=\"simpletable\">\n",
       "<caption>Logit Regression Results</caption>\n",
       "<tr>\n",
       "  <th>Dep. Variable:</th>       <td>Response</td>     <th>  No. Observations:  </th>  <td>   985</td> \n",
       "</tr>\n",
       "<tr>\n",
       "  <th>Model:</th>                 <td>Logit</td>      <th>  Df Residuals:      </th>  <td>   978</td> \n",
       "</tr>\n",
       "<tr>\n",
       "  <th>Method:</th>                 <td>MLE</td>       <th>  Df Model:          </th>  <td>     6</td> \n",
       "</tr>\n",
       "<tr>\n",
       "  <th>Date:</th>            <td>Tue, 09 Jul 2024</td> <th>  Pseudo R-squ.:     </th> <td>0.008988</td>\n",
       "</tr>\n",
       "<tr>\n",
       "  <th>Time:</th>                <td>06:37:44</td>     <th>  Log-Likelihood:    </th> <td> -671.06</td>\n",
       "</tr>\n",
       "<tr>\n",
       "  <th>converged:</th>             <td>True</td>       <th>  LL-Null:           </th> <td> -677.14</td>\n",
       "</tr>\n",
       "<tr>\n",
       "  <th>Covariance Type:</th>     <td>nonrobust</td>    <th>  LLR p-value:       </th>  <td>0.05825</td>\n",
       "</tr>\n",
       "</table>\n",
       "<table class=\"simpletable\">\n",
       "<tr>\n",
       "      <td></td>         <th>coef</th>     <th>std err</th>      <th>z</th>      <th>P>|z|</th>  <th>[0.025</th>    <th>0.975]</th>  \n",
       "</tr>\n",
       "<tr>\n",
       "  <th>Intercept</th> <td>   -0.0780</td> <td>    0.094</td> <td>   -0.831</td> <td> 0.406</td> <td>   -0.262</td> <td>    0.106</td>\n",
       "</tr>\n",
       "<tr>\n",
       "  <th>Lag1</th>      <td>   -0.0737</td> <td>    0.029</td> <td>   -2.500</td> <td> 0.012</td> <td>   -0.132</td> <td>   -0.016</td>\n",
       "</tr>\n",
       "<tr>\n",
       "  <th>Lag2</th>      <td>    0.0293</td> <td>    0.030</td> <td>    0.985</td> <td> 0.325</td> <td>   -0.029</td> <td>    0.088</td>\n",
       "</tr>\n",
       "<tr>\n",
       "  <th>Lag3</th>      <td>   -0.0147</td> <td>    0.029</td> <td>   -0.503</td> <td> 0.615</td> <td>   -0.072</td> <td>    0.043</td>\n",
       "</tr>\n",
       "<tr>\n",
       "  <th>Lag4</th>      <td>   -0.0246</td> <td>    0.029</td> <td>   -0.840</td> <td> 0.401</td> <td>   -0.082</td> <td>    0.033</td>\n",
       "</tr>\n",
       "<tr>\n",
       "  <th>Lag5</th>      <td>   -0.0314</td> <td>    0.029</td> <td>   -1.072</td> <td> 0.284</td> <td>   -0.089</td> <td>    0.026</td>\n",
       "</tr>\n",
       "<tr>\n",
       "  <th>Volume</th>    <td>   -0.1039</td> <td>    0.055</td> <td>   -1.886</td> <td> 0.059</td> <td>   -0.212</td> <td>    0.004</td>\n",
       "</tr>\n",
       "</table>"
      ],
      "text/plain": [
       "<class 'statsmodels.iolib.summary.Summary'>\n",
       "\"\"\"\n",
       "                           Logit Regression Results                           \n",
       "==============================================================================\n",
       "Dep. Variable:               Response   No. Observations:                  985\n",
       "Model:                          Logit   Df Residuals:                      978\n",
       "Method:                           MLE   Df Model:                            6\n",
       "Date:                Tue, 09 Jul 2024   Pseudo R-squ.:                0.008988\n",
       "Time:                        06:37:44   Log-Likelihood:                -671.06\n",
       "converged:                       True   LL-Null:                       -677.14\n",
       "Covariance Type:            nonrobust   LLR p-value:                   0.05825\n",
       "==============================================================================\n",
       "                 coef    std err          z      P>|z|      [0.025      0.975]\n",
       "------------------------------------------------------------------------------\n",
       "Intercept     -0.0780      0.094     -0.831      0.406      -0.262       0.106\n",
       "Lag1          -0.0737      0.029     -2.500      0.012      -0.132      -0.016\n",
       "Lag2           0.0293      0.030      0.985      0.325      -0.029       0.088\n",
       "Lag3          -0.0147      0.029     -0.503      0.615      -0.072       0.043\n",
       "Lag4          -0.0246      0.029     -0.840      0.401      -0.082       0.033\n",
       "Lag5          -0.0314      0.029     -1.072      0.284      -0.089       0.026\n",
       "Volume        -0.1039      0.055     -1.886      0.059      -0.212       0.004\n",
       "==============================================================================\n",
       "\"\"\""
      ]
     },
     "execution_count": 31,
     "metadata": {},
     "output_type": "execute_result"
    }
   ],
   "source": [
    "model = smf.logit(formula, data=train).fit()\n",
    "\n",
    "model.summary()"
   ]
  },
  {
   "cell_type": "markdown",
   "id": "884a2139",
   "metadata": {
    "deletable": false,
    "editable": false,
    "nbgrader": {
     "cell_type": "markdown",
     "checksum": "4441b15f459df403392da0c86dc2a916",
     "grade": false,
     "grade_id": "cell-md-15",
     "locked": true,
     "schema_version": 3,
     "solution": false,
     "task": false
    }
   },
   "source": [
    "How many variables are statistically significant? Store your result in a variable named `num_significant_B`. (Hint: use the summary() function)"
   ]
  },
  {
   "cell_type": "code",
   "execution_count": 32,
   "id": "dee8824c",
   "metadata": {
    "deletable": false,
    "nbgrader": {
     "cell_type": "code",
     "checksum": "fc4157b29015112069d251c354f0302b",
     "grade": false,
     "grade_id": "cell-solution-10",
     "locked": false,
     "schema_version": 3,
     "solution": true,
     "task": false
    }
   },
   "outputs": [],
   "source": [
    "num_significant_B = 1 # Save your solution in this variable\n",
    "# your code here"
   ]
  },
  {
   "cell_type": "code",
   "execution_count": 33,
   "id": "c7fdf217",
   "metadata": {
    "deletable": false,
    "editable": false,
    "nbgrader": {
     "cell_type": "code",
     "checksum": "0730b7ed0991ae1f2d41e99a8dc21401",
     "grade": true,
     "grade_id": "cell-test-5",
     "locked": true,
     "points": 10,
     "schema_version": 3,
     "solution": false,
     "task": false
    }
   },
   "outputs": [],
   "source": [
    "##########################\n",
    "### TEST YOUR SOLUTION ###\n",
    "##########################\n",
    "\n",
    "assert num_significant_B == 1, \"Wrong value for num_significant_B, try again..\""
   ]
  },
  {
   "cell_type": "markdown",
   "id": "2f856a32",
   "metadata": {
    "deletable": false,
    "editable": false,
    "nbgrader": {
     "cell_type": "markdown",
     "checksum": "ff1d156d121588d3ed0146ca45b98010",
     "grade": false,
     "grade_id": "cell-md-16",
     "locked": true,
     "schema_version": 3,
     "solution": false,
     "task": false
    }
   },
   "source": [
    "Save any variables that are statistically significant in a list named `var_significant_B`."
   ]
  },
  {
   "cell_type": "code",
   "execution_count": 34,
   "id": "b79cf6f0",
   "metadata": {
    "deletable": false,
    "nbgrader": {
     "cell_type": "code",
     "checksum": "0e02493d96991e00d81fac31ccdb3f26",
     "grade": false,
     "grade_id": "cell-solution-11",
     "locked": false,
     "schema_version": 3,
     "solution": true,
     "task": false
    }
   },
   "outputs": [],
   "source": [
    "var_significant_B = ['Lag1'] # Save your solution in this variable\n",
    "# your code here\n"
   ]
  },
  {
   "cell_type": "code",
   "execution_count": 35,
   "id": "f39b29e2",
   "metadata": {
    "deletable": false,
    "editable": false,
    "nbgrader": {
     "cell_type": "code",
     "checksum": "581438ad341021bfa1cab41c72a3efa7",
     "grade": true,
     "grade_id": "cell-test-6",
     "locked": true,
     "points": 10,
     "schema_version": 3,
     "solution": false,
     "task": false
    }
   },
   "outputs": [],
   "source": [
    "##########################\n",
    "### TEST YOUR SOLUTION ###\n",
    "##########################\n",
    "\n",
    "assert len(var_significant_B) == 1, \"There should be num_significant entries in the list\"\n",
    "assert var_significant_B[0] == 'Lag1', \"That is not the correct variable, try again..\""
   ]
  },
  {
   "cell_type": "markdown",
   "id": "1c043b77",
   "metadata": {
    "deletable": false,
    "editable": false,
    "nbgrader": {
     "cell_type": "markdown",
     "checksum": "78ec930012bb6fdd0e33f92c4c3a3967",
     "grade": false,
     "grade_id": "cell-md-17",
     "locked": true,
     "schema_version": 3,
     "solution": false,
     "task": false
    }
   },
   "source": [
    "Compute the overall fraction of correct predictions for the held out data (that is, the data\n",
    "from 2009 and 2010). Store this value in a variable named `fraction_correct_B`."
   ]
  },
  {
   "cell_type": "code",
   "execution_count": 38,
   "id": "acd629f8",
   "metadata": {},
   "outputs": [],
   "source": [
    "test = test.copy()\n",
    "test['pred_prob'] = model.predict(test)\n",
    "test['pred_label'] = (test['pred_prob'] > 0.5).astype(int)"
   ]
  },
  {
   "cell_type": "code",
   "execution_count": 39,
   "id": "51703caf",
   "metadata": {
    "deletable": false,
    "nbgrader": {
     "cell_type": "code",
     "checksum": "de94874b564b69816f672f0e0462ea78",
     "grade": false,
     "grade_id": "cell-solution-12",
     "locked": false,
     "schema_version": 3,
     "solution": true,
     "task": false
    }
   },
   "outputs": [
    {
     "data": {
      "text/plain": [
       "0.5"
      ]
     },
     "execution_count": 39,
     "metadata": {},
     "output_type": "execute_result"
    }
   ],
   "source": [
    "fraction_correct_B = (test['pred_label'] == test['Response']).mean()\n",
    "fraction_correct_B"
   ]
  },
  {
   "cell_type": "code",
   "execution_count": 40,
   "id": "27c186f0",
   "metadata": {
    "deletable": false,
    "editable": false,
    "nbgrader": {
     "cell_type": "code",
     "checksum": "a7c2335c8e04b8a61ad8304c6c45d5dd",
     "grade": true,
     "grade_id": "cell-test-7",
     "locked": true,
     "points": 20,
     "schema_version": 3,
     "solution": false,
     "task": false
    }
   },
   "outputs": [],
   "source": [
    "##########################\n",
    "### TEST YOUR SOLUTION ###\n",
    "##########################\n",
    "\n",
    "assert np.allclose(fraction_correct_B, 0.5, .001), \"Incorrect result, try again.. (hint: use the predict() function)\""
   ]
  },
  {
   "cell_type": "code",
   "execution_count": null,
   "id": "bb229ecb",
   "metadata": {},
   "outputs": [],
   "source": []
  }
 ],
 "metadata": {
  "kernelspec": {
   "display_name": "Python 3 (ipykernel)",
   "language": "python",
   "name": "python3"
  },
  "language_info": {
   "codemirror_mode": {
    "name": "ipython",
    "version": 3
   },
   "file_extension": ".py",
   "mimetype": "text/x-python",
   "name": "python",
   "nbconvert_exporter": "python",
   "pygments_lexer": "ipython3",
   "version": "3.10.6"
  }
 },
 "nbformat": 4,
 "nbformat_minor": 5
}
