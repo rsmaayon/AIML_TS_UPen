{
 "cells": [
  {
   "cell_type": "markdown",
   "id": "cc9489b4",
   "metadata": {
    "nbgrader": {
     "grade": false,
     "grade_id": "cell-md-1",
     "locked": false,
     "schema_version": 3,
     "solution": false,
     "task": false
    }
   },
   "source": [
    "# Assignment 1: Python Skills"
   ]
  },
  {
   "cell_type": "markdown",
   "id": "6ca23aaf",
   "metadata": {
    "nbgrader": {
     "grade": false,
     "grade_id": "cell-md-2",
     "locked": false,
     "schema_version": 3,
     "solution": false,
     "task": false
    }
   },
   "source": [
    "## Instructions\n",
    "\n",
    "In this assignment, you will answer some conceptual questions about Python and write a collection of basic algorithms and data structures.  You will find that in addition to a problem specification, each programming question also includes examples from the Python interpreter. These are meant to illustrate typical use cases, and should not be taken as comprehensive test suites.\n",
    "\n",
    "### Note:\n",
    "You are expected to write code where you see **your code here**.  \n",
    "Make sure you delete the lines with **pass** and **raise NotImplementedError** or your code may not run correctly."
   ]
  },
  {
   "cell_type": "markdown",
   "id": "71a10464",
   "metadata": {
    "nbgrader": {
     "grade": false,
     "grade_id": "cell-md-2",
     "locked": false,
     "schema_version": 3,
     "solution": false,
     "task": false
    }
   },
   "source": [
    "## Working with Lists\n",
    "\n",
    "Write a function concatenate(seqs) that returns a list containing the concatenation of the elements of the input sequences. Your implementation should consist of a single list comprehension, and should not exceed one line."
   ]
  },
  {
   "cell_type": "code",
   "execution_count": 1,
   "id": "e922e6f9",
   "metadata": {
    "deletable": false,
    "nbgrader": {
     "cell_type": "code",
     "checksum": "800c9271c47933eb6322a01f549ede2c",
     "grade": false,
     "grade_id": "cell-solution-1",
     "locked": false,
     "schema_version": 3,
     "solution": true
    }
   },
   "outputs": [],
   "source": [
    "############################################################\n",
    "# Section: Working with Lists\n",
    "############################################################\n",
    "\n",
    "def concatenate(seqs):\n",
    "    return [item for seq in seqs for item in seq]\n"
   ]
  },
  {
   "cell_type": "code",
   "execution_count": 2,
   "id": "c1051880",
   "metadata": {
    "deletable": false,
    "editable": false,
    "nbgrader": {
     "cell_type": "code",
     "checksum": "f04426b8b208e7fdab77b1592c5219ce",
     "grade": true,
     "grade_id": "cell-test-1",
     "locked": true,
     "points": 10,
     "schema_version": 3,
     "solution": false
    }
   },
   "outputs": [
    {
     "name": "stdout",
     "output_type": "stream",
     "text": [
      "test passed!\n"
     ]
    }
   ],
   "source": [
    "##########################\n",
    "### TEST YOUR SOLUTION ###\n",
    "##########################\n",
    "\n",
    "# concatenate test\n",
    "concatenate_test = concatenate([[1, 2], [3, 4]])\n",
    "assert concatenate_test == [1, 2, 3, 4], \"Concatenated list should be [1, 2, 3, 4]\"\n",
    "concatenate_test = concatenate([[1, 2], [3, 4, 5]])\n",
    "assert concatenate_test == [1, 2, 3, 4, 5], \"Concatenated list should be [1, 2, 3, 4, 5]\"\n",
    "print(\"test passed!\")\n"
   ]
  },
  {
   "cell_type": "markdown",
   "id": "9a996756",
   "metadata": {
    "nbgrader": {
     "grade": false,
     "grade_id": "cell-md-2",
     "locked": false,
     "schema_version": 3,
     "solution": false,
     "task": false
    }
   },
   "source": [
    "Write a function transpose(matrix) that returns the transpose of the input matrix, which is represented as a list of lists. Recall that the transpose of a matrix is obtained by swapping its rows with its columns. More concretely, the equality matrix[i][j] == transpose(matrix)[j][i] should hold for all valid indices i and j. You may assume that the input matrix is well-formed, i.e., that each row is of equal length. You may further assume that the input matrix is non-empty. Your function should not modify the input."
   ]
  },
  {
   "cell_type": "code",
   "execution_count": 3,
   "id": "7feeb0f2",
   "metadata": {
    "deletable": false,
    "nbgrader": {
     "cell_type": "code",
     "checksum": "5fc969eb27a4d0308bd340034fc5a9fd",
     "grade": false,
     "grade_id": "cell-solution-2",
     "locked": false,
     "schema_version": 3,
     "solution": true
    }
   },
   "outputs": [],
   "source": [
    "def transpose(matrix):\n",
    "    return [[row[i] for row in matrix] for i in range(len(matrix[0]))]\n"
   ]
  },
  {
   "cell_type": "code",
   "execution_count": 4,
   "id": "b87c4116",
   "metadata": {
    "deletable": false,
    "editable": false,
    "nbgrader": {
     "cell_type": "code",
     "checksum": "3fae9a278b59b3fabd6a6d206150c9bf",
     "grade": true,
     "grade_id": "cell-test-2",
     "locked": true,
     "points": 10,
     "schema_version": 3,
     "solution": false
    }
   },
   "outputs": [
    {
     "name": "stdout",
     "output_type": "stream",
     "text": [
      "test passed!\n"
     ]
    }
   ],
   "source": [
    "##########################\n",
    "### TEST YOUR SOLUTION ###\n",
    "##########################\n",
    "\n",
    "# transpose test\n",
    "transpose_test1 = transpose([[1, 2, 3]])\n",
    "transpose_test2 = transpose([[1, 2], [3, 4], [5, 6]])\n",
    "assert transpose_test1 == [[1], [2], [3]], \"Transposed list should be [[1], [2], [3]]\"\n",
    "assert transpose_test2 == [[1, 3, 5], [2, 4, 6]], \"Transposed list should be [[1, 3, 5], [2, 4, 6]]\"\n",
    "print(\"test passed!\")\n"
   ]
  },
  {
   "cell_type": "markdown",
   "id": "0db75ce1",
   "metadata": {
    "nbgrader": {
     "grade": false,
     "grade_id": "cell-md-3",
     "locked": false,
     "schema_version": 3,
     "solution": false,
     "task": false
    }
   },
   "source": [
    "## Sequence Slicing\n",
    "\n",
    "Write a function copy(seq) that returns a new sequence containing the same elements as the input sequence."
   ]
  },
  {
   "cell_type": "code",
   "execution_count": 5,
   "id": "5436062a",
   "metadata": {
    "deletable": false,
    "nbgrader": {
     "cell_type": "code",
     "checksum": "23844bcdc3e21351cc3634e913131f40",
     "grade": false,
     "grade_id": "cell-solution-3",
     "locked": false,
     "schema_version": 3,
     "solution": true
    }
   },
   "outputs": [],
   "source": [
    "############################################################\n",
    "# Section: Sequence Slicing\n",
    "############################################################\n",
    "\n",
    "def copy(seq):\n",
    "     return seq[:]\n"
   ]
  },
  {
   "cell_type": "code",
   "execution_count": 6,
   "id": "f8fcfdc1",
   "metadata": {
    "deletable": false,
    "editable": false,
    "nbgrader": {
     "cell_type": "code",
     "checksum": "73b6b8afa6c0ff85f583e6b1fe2113a5",
     "grade": true,
     "grade_id": "cell-test-3",
     "locked": true,
     "points": 10,
     "schema_version": 3,
     "solution": false
    }
   },
   "outputs": [
    {
     "name": "stdout",
     "output_type": "stream",
     "text": [
      "test passed!\n"
     ]
    }
   ],
   "source": [
    "##########################\n",
    "### TEST YOUR SOLUTION ###\n",
    "##########################\n",
    "\n",
    "# copy test\n",
    "copy_test1 = copy(\"abc\")\n",
    "copy_test2 = copy((1, 2, 3))\n",
    "assert copy_test1 == 'abc'\n",
    "assert copy_test2 == (1, 2, 3)\n",
    "print(\"test passed!\")\n"
   ]
  },
  {
   "cell_type": "markdown",
   "id": "7aacd6bb",
   "metadata": {
    "nbgrader": {
     "grade": false,
     "grade_id": "cell-md-3",
     "locked": false,
     "schema_version": 3,
     "solution": false,
     "task": false
    }
   },
   "source": [
    "Write a function all_but_last(seq) that returns a new squence containing all but the last element of the input sequence. If the input sequence is empty, a new empty sequence of the same type should be returned."
   ]
  },
  {
   "cell_type": "code",
   "execution_count": 7,
   "id": "75658a66",
   "metadata": {
    "deletable": false,
    "nbgrader": {
     "cell_type": "code",
     "checksum": "49695a38c284b14e606fb1382a5d4960",
     "grade": false,
     "grade_id": "cell-solution-4",
     "locked": false,
     "schema_version": 3,
     "solution": true
    }
   },
   "outputs": [],
   "source": [
    "def all_but_last(seq):\n",
    "     return seq[:-1]\n"
   ]
  },
  {
   "cell_type": "code",
   "execution_count": 8,
   "id": "a983cdcc",
   "metadata": {
    "deletable": false,
    "editable": false,
    "nbgrader": {
     "cell_type": "code",
     "checksum": "e977b76ab65b3b24ebaef24f972a7479",
     "grade": true,
     "grade_id": "cell-test-4",
     "locked": true,
     "points": 10,
     "schema_version": 3,
     "solution": false
    }
   },
   "outputs": [
    {
     "name": "stdout",
     "output_type": "stream",
     "text": [
      "test passed!\n"
     ]
    }
   ],
   "source": [
    "##########################\n",
    "### TEST YOUR SOLUTION ###\n",
    "##########################\n",
    "\n",
    "# all_but_last test\n",
    "all_but_last_test1 = all_but_last(\"abc\")\n",
    "all_but_last_test2 = all_but_last((1, 2, 3))\n",
    "assert all_but_last_test1 == 'ab'\n",
    "assert all_but_last_test2 == (1, 2)\n",
    "print(\"test passed!\")\n"
   ]
  },
  {
   "cell_type": "markdown",
   "id": "03db5a93",
   "metadata": {
    "nbgrader": {
     "grade": false,
     "grade_id": "cell-md-3",
     "locked": false,
     "schema_version": 3,
     "solution": false,
     "task": false
    }
   },
   "source": [
    "Write a function every_other(seq) that returns a new sequence containing every other element of the input sequence, starting with the first. This function can be written in one line using the optional third parameter of the slice notation."
   ]
  },
  {
   "cell_type": "code",
   "execution_count": 9,
   "id": "f7c3653d",
   "metadata": {
    "deletable": false,
    "nbgrader": {
     "cell_type": "code",
     "checksum": "915a28858c1a83dd4635860c72f09e7e",
     "grade": false,
     "grade_id": "cell-solution-5",
     "locked": false,
     "schema_version": 3,
     "solution": true
    }
   },
   "outputs": [],
   "source": [
    "def every_other(seq):\n",
    "    return seq[::2]\n",
    "\n",
    "# your code here\n"
   ]
  },
  {
   "cell_type": "code",
   "execution_count": 10,
   "id": "d62b49fc",
   "metadata": {
    "deletable": false,
    "editable": false,
    "nbgrader": {
     "cell_type": "code",
     "checksum": "24f277f7f83b0dcd0a0daa26cbe5c282",
     "grade": true,
     "grade_id": "cell-test-5",
     "locked": true,
     "points": 10,
     "schema_version": 3,
     "solution": false
    }
   },
   "outputs": [
    {
     "name": "stdout",
     "output_type": "stream",
     "text": [
      "test passed!\n"
     ]
    }
   ],
   "source": [
    "##########################\n",
    "### TEST YOUR SOLUTION ###\n",
    "##########################\n",
    "\n",
    "# every_other test\n",
    "every_other_test1 = every_other([1, 2, 3, 4, 5])\n",
    "every_other_test2 = every_other(\"abcde\")\n",
    "assert every_other_test1 == [1, 3, 5]\n",
    "assert every_other_test2 == 'ace'\n",
    "print(\"test passed!\")\n"
   ]
  },
  {
   "cell_type": "markdown",
   "id": "af7a6ee9",
   "metadata": {
    "nbgrader": {
     "grade": false,
     "grade_id": "cell-md-4",
     "locked": false,
     "schema_version": 3,
     "solution": false,
     "task": false
    }
   },
   "source": [
    "## Combinatorial Algorithms\n",
    "\n",
    "The prefixes of a sequence include the empty sequence, the first element, the first two elements, etc., up to and including the full sequence itself.  \n",
    "\n",
    "Write a function prefixes(seq) that yield all prefixes of the input sequence."
   ]
  },
  {
   "cell_type": "code",
   "execution_count": 11,
   "id": "e57faa08",
   "metadata": {
    "deletable": false,
    "nbgrader": {
     "cell_type": "code",
     "checksum": "bfb98956d87a3c8701a0436a491c63f5",
     "grade": false,
     "grade_id": "cell-solution-6",
     "locked": false,
     "schema_version": 3,
     "solution": true
    }
   },
   "outputs": [],
   "source": [
    "############################################################\n",
    "# Section: Combinatorial Algorithms\n",
    "############################################################\n",
    "\n",
    "def prefixes(seq):\n",
    "    for i in range(len(seq) + 1):\n",
    "        yield seq[:i]\n"
   ]
  },
  {
   "cell_type": "code",
   "execution_count": 12,
   "id": "39350804",
   "metadata": {
    "deletable": false,
    "editable": false,
    "nbgrader": {
     "cell_type": "code",
     "checksum": "04cc9af046d2bf03445eaecb933bc205",
     "grade": true,
     "grade_id": "cell-test-6",
     "locked": true,
     "points": 10,
     "schema_version": 3,
     "solution": false
    }
   },
   "outputs": [
    {
     "name": "stdout",
     "output_type": "stream",
     "text": [
      "test passed!\n"
     ]
    }
   ],
   "source": [
    "##########################\n",
    "### TEST YOUR SOLUTION ###\n",
    "##########################\n",
    "\n",
    "# prefixes test\n",
    "prefixes_test1 = list(prefixes([1, 2, 3]))\n",
    "prefixes_test2 = list(prefixes(\"abc\"))\n",
    "assert prefixes_test1 == [[], [1], [1, 2], [1, 2, 3]]\n",
    "assert prefixes_test2 == ['', 'a', 'ab', 'abc']\n",
    "print(\"test passed!\")\n"
   ]
  },
  {
   "cell_type": "markdown",
   "id": "ff227cfd",
   "metadata": {
    "nbgrader": {
     "grade": false,
     "grade_id": "cell-md-4",
     "locked": false,
     "schema_version": 3,
     "solution": false,
     "task": false
    }
   },
   "source": [
    "Write a function slices(seq) that yields all non-empty slices of the input sequence."
   ]
  },
  {
   "cell_type": "code",
   "execution_count": 13,
   "id": "e37af91f",
   "metadata": {
    "deletable": false,
    "nbgrader": {
     "cell_type": "code",
     "checksum": "9a506058a87ef3dc4982c0e2e7d35a45",
     "grade": false,
     "grade_id": "cell-solution-7",
     "locked": false,
     "schema_version": 3,
     "solution": true
    }
   },
   "outputs": [],
   "source": [
    "def slices(seq):\n",
    "    for start in range(len(seq)):\n",
    "        for end in range(start + 1, len(seq) + 1):\n",
    "            yield seq[start:end]\n",
    "\n"
   ]
  },
  {
   "cell_type": "code",
   "execution_count": 14,
   "id": "e4a59fff",
   "metadata": {
    "deletable": false,
    "editable": false,
    "nbgrader": {
     "cell_type": "code",
     "checksum": "c644961994971aae97f9b7703177b85b",
     "grade": true,
     "grade_id": "cell-test-7",
     "locked": true,
     "points": 10,
     "schema_version": 3,
     "solution": false
    }
   },
   "outputs": [
    {
     "name": "stdout",
     "output_type": "stream",
     "text": [
      "test passed!\n"
     ]
    }
   ],
   "source": [
    "##########################\n",
    "### TEST YOUR SOLUTION ###\n",
    "##########################\n",
    "\n",
    "# slices test\n",
    "slices_test1 = list(slices([1, 2, 3]))\n",
    "slices_test2 = list(slices(\"abc\")) \n",
    "assert slices_test1 == [[1], [1, 2], [1, 2, 3], [2], [2, 3], [3]]\n",
    "assert slices_test2 == ['a', 'ab', 'abc', 'b', 'bc', 'c']\n",
    "print(\"test passed!\")\n"
   ]
  },
  {
   "cell_type": "markdown",
   "id": "d77e0747",
   "metadata": {
    "nbgrader": {
     "grade": false,
     "grade_id": "cell-md-5",
     "locked": false,
     "schema_version": 3,
     "solution": false,
     "task": false
    }
   },
   "source": [
    "## Text Processing\n",
    "\n",
    "A common preprocessing step in many natural language processing tasks is text normalization, wherein words are converted to lowercase, extraneous whitespace is removed, etc. \n",
    "\n",
    "Write a function normalize(text) that returns a normalized version of the input string, in which all words have been converted to lowercase and are separated by a single space. No leading or trailing whitespace should be present in the output."
   ]
  },
  {
   "cell_type": "code",
   "execution_count": 15,
   "id": "5713df2d",
   "metadata": {
    "deletable": false,
    "nbgrader": {
     "cell_type": "code",
     "checksum": "504b032e71eba77bf3be6fb93990b2e3",
     "grade": false,
     "grade_id": "cell-solution-8",
     "locked": false,
     "schema_version": 3,
     "solution": true
    }
   },
   "outputs": [],
   "source": [
    "############################################################\n",
    "# Section: Text Processing\n",
    "############################################################\n",
    "\n",
    "def normalize(text):\n",
    "    return ' '.join(text.lower().split())\n"
   ]
  },
  {
   "cell_type": "code",
   "execution_count": 16,
   "id": "c87797fe",
   "metadata": {
    "deletable": false,
    "editable": false,
    "nbgrader": {
     "cell_type": "code",
     "checksum": "e7b9f8a01076b6de32fc5afdcf549311",
     "grade": true,
     "grade_id": "cell-test-8",
     "locked": true,
     "points": 10,
     "schema_version": 3,
     "solution": false
    }
   },
   "outputs": [
    {
     "name": "stdout",
     "output_type": "stream",
     "text": [
      "test passed!\n"
     ]
    }
   ],
   "source": [
    "##########################\n",
    "### TEST YOUR SOLUTION ###\n",
    "##########################\n",
    "\n",
    "# normalize test\n",
    "normalize_test1 = normalize(\"This is an example.\")\n",
    "normalize_test2 = normalize(\" EXTRA SPACE \")\n",
    "assert normalize_test1 == \"this is an example.\"\n",
    "assert normalize_test2 == \"extra space\"\n",
    "print(\"test passed!\")\n"
   ]
  },
  {
   "cell_type": "markdown",
   "id": "571a1298",
   "metadata": {
    "nbgrader": {
     "grade": false,
     "grade_id": "cell-md-5",
     "locked": false,
     "schema_version": 3,
     "solution": false,
     "task": false
    }
   },
   "source": [
    "Write a function digits_to_words(text) that extracts all digits from the input string, spells them out as lowercase English words, and returns a new string in which they are each separated by a single space. If the input string contains no digits, then an empty string should be returned."
   ]
  },
  {
   "cell_type": "code",
   "execution_count": 20,
   "id": "c7c5b2d1",
   "metadata": {
    "deletable": false,
    "nbgrader": {
     "cell_type": "code",
     "checksum": "c218abf1e0c3540ecdbbd8e2405e1483",
     "grade": false,
     "grade_id": "cell-solution-9",
     "locked": false,
     "schema_version": 3,
     "solution": true
    }
   },
   "outputs": [],
   "source": [
    "def digits_to_words(text):\n",
    "    digit_to_word = {'0': 'zero', '1': 'one', '2': 'two', '3': 'three', '4': 'four',\n",
    "                     '5': 'five', '6': 'six', '7': 'seven', '8': 'eight', '9': 'nine'}\n",
    "    \n",
    "    digits = ''.join(filter(str.isdigit, text))\n",
    "    \n",
    "    return ' '.join(digit_to_word[d] for d in digits) if digits else ''\n"
   ]
  },
  {
   "cell_type": "code",
   "execution_count": 18,
   "id": "cd585cb0",
   "metadata": {
    "deletable": false,
    "editable": false,
    "nbgrader": {
     "cell_type": "code",
     "checksum": "273bfb52372bd28d9374057ee076323f",
     "grade": true,
     "grade_id": "cell-test-9",
     "locked": true,
     "points": 10,
     "schema_version": 3,
     "solution": false
    }
   },
   "outputs": [
    {
     "name": "stdout",
     "output_type": "stream",
     "text": [
      "test passed!\n"
     ]
    }
   ],
   "source": [
    "##########################\n",
    "### TEST YOUR SOLUTION ###\n",
    "##########################\n",
    "\n",
    "# digits_to_words test\n",
    "digits_to_words_test1 = digits_to_words(\"Zip Code: 19104\")\n",
    "digits_to_words_test2 = digits_to_words(\"Pi is 3.1415...\")\n",
    "assert digits_to_words_test1 == \"one nine one zero four\"\n",
    "assert digits_to_words_test2 == \"three one four one five\"\n",
    "print(\"test passed!\")\n"
   ]
  },
  {
   "cell_type": "code",
   "execution_count": 23,
   "id": "2da617de",
   "metadata": {
    "deletable": false,
    "nbgrader": {
     "cell_type": "code",
     "checksum": "603ba32a450eb64a4bcaa4f547696713",
     "grade": false,
     "grade_id": "cell-solution-10",
     "locked": false,
     "schema_version": 3,
     "solution": true
    }
   },
   "outputs": [
    {
     "name": "stdout",
     "output_type": "stream",
     "text": [
      "testing over\n"
     ]
    }
   ],
   "source": [
    "# your code here\n",
    "print(\"testing over\")"
   ]
  },
  {
   "cell_type": "markdown",
   "id": "d5158dc6",
   "metadata": {
    "nbgrader": {
     "grade": false,
     "grade_id": "cell-md-6",
     "locked": false,
     "schema_version": 3,
     "solution": false,
     "task": false
    }
   },
   "source": [
    "## Python Packages\n",
    "\n",
    "Install numpy first:"
   ]
  },
  {
   "cell_type": "code",
   "execution_count": 24,
   "id": "3442e000",
   "metadata": {
    "deletable": false,
    "nbgrader": {
     "cell_type": "code",
     "checksum": "469c2ad1af9bd1ce81acc7cb575ca93b",
     "grade": false,
     "grade_id": "cell-solution-11",
     "locked": false,
     "schema_version": 3,
     "solution": true
    }
   },
   "outputs": [
    {
     "name": "stdout",
     "output_type": "stream",
     "text": [
      "\u001b[33mWARNING: The directory '/home/jovyan/.cache/pip' or its parent directory is not owned or is not writable by the current user. The cache has been disabled. Check the permissions and owner of that directory. If executing pip with sudo, you should use sudo's -H flag.\u001b[0m\u001b[33m\n",
      "\u001b[0mRequirement already satisfied: numpy in /opt/conda/lib/python3.10/site-packages (1.23.5)\n",
      "\u001b[33mWARNING: Running pip as the 'root' user can result in broken permissions and conflicting behaviour with the system package manager. It is recommended to use a virtual environment instead: https://pip.pypa.io/warnings/venv\u001b[0m\u001b[33m\n",
      "\u001b[0m\n",
      "\u001b[1m[\u001b[0m\u001b[34;49mnotice\u001b[0m\u001b[1;39;49m]\u001b[0m\u001b[39;49m A new release of pip is available: \u001b[0m\u001b[31;49m24.0\u001b[0m\u001b[39;49m -> \u001b[0m\u001b[32;49m24.1.2\u001b[0m\n",
      "\u001b[1m[\u001b[0m\u001b[34;49mnotice\u001b[0m\u001b[1;39;49m]\u001b[0m\u001b[39;49m To update, run: \u001b[0m\u001b[32;49mpip install --upgrade pip\u001b[0m\n"
     ]
    }
   ],
   "source": [
    "# your code here\n",
    "! pip install numpy"
   ]
  },
  {
   "cell_type": "markdown",
   "id": "88fe11c2",
   "metadata": {
    "nbgrader": {
     "grade": false,
     "grade_id": "cell-md-6",
     "locked": false,
     "schema_version": 3,
     "solution": false,
     "task": false
    }
   },
   "source": [
    "\n",
    "Use numpy package to implement the sort_array(list_of_matrics) which takes in a list of matrices with various dimensions and return a sorted 1D array with decreasing order contains all the values in these matrices. The data type of the returned array is int."
   ]
  },
  {
   "cell_type": "code",
   "execution_count": 25,
   "id": "516de5c5",
   "metadata": {
    "deletable": false,
    "nbgrader": {
     "cell_type": "code",
     "checksum": "12d47940bb47f170a11db614a40c8f1c",
     "grade": false,
     "grade_id": "cell-solution-13",
     "locked": false,
     "schema_version": 3,
     "solution": true
    }
   },
   "outputs": [],
   "source": [
    "############################################################\n",
    "# Section: Python Packages\n",
    "############################################################\n",
    "import numpy as np\n",
    "def sort_array(list_of_matrices):\n",
    "    flattened_arrays = [matrix.flatten() for matrix in list_of_matrices]\n",
    "    concatenated_array = np.concatenate(flattened_arrays)\n",
    "    sorted_array = np.sort(concatenated_array)[::-1]  # Sort in decreasing order\n",
    "    return sorted_array.astype(int)\n"
   ]
  },
  {
   "cell_type": "code",
   "execution_count": 26,
   "id": "8e30ba13",
   "metadata": {
    "deletable": false,
    "editable": false,
    "nbgrader": {
     "cell_type": "code",
     "checksum": "b6d421ca4dea1a29941e1cb2d51ffed5",
     "grade": true,
     "grade_id": "cell-test-13",
     "locked": true,
     "points": 5,
     "schema_version": 3,
     "solution": false
    }
   },
   "outputs": [
    {
     "name": "stdout",
     "output_type": "stream",
     "text": [
      "test passed!\n"
     ]
    }
   ],
   "source": [
    "##########################\n",
    "### TEST YOUR SOLUTION ###\n",
    "##########################\n",
    "\n",
    "# sort_array test\n",
    "from numpy.testing import assert_array_equal\n",
    "matrix1 = np.array([[1, 2], [3, 4]])\n",
    "matrix2 = np.array([[5, 6, 7], [7, 8, 9], [0, -1, -2]])\n",
    "sort_array_test = sort_array([matrix1, matrix2])\n",
    "\n",
    "expected_result = np.array([9, 8, 7, 7, 6, 5, 4, 3, 2, 1, 0, -1, -2])\n",
    "assert_array_equal(sort_array_test, expected_result)\n",
    "\n",
    "print(\"test passed!\")\n",
    "\n"
   ]
  },
  {
   "cell_type": "code",
   "execution_count": 27,
   "id": "28c43f5d",
   "metadata": {
    "deletable": false,
    "nbgrader": {
     "cell_type": "code",
     "checksum": "3f595125e7edef209534b08f2d03459d",
     "grade": false,
     "grade_id": "cell-solution-14",
     "locked": false,
     "schema_version": 3,
     "solution": true
    }
   },
   "outputs": [
    {
     "name": "stdout",
     "output_type": "stream",
     "text": [
      "numpy test over\n"
     ]
    }
   ],
   "source": [
    "# your code here\n",
    "print(\"numpy test over\")"
   ]
  },
  {
   "cell_type": "code",
   "execution_count": 28,
   "id": "0ef253fd",
   "metadata": {
    "deletable": false,
    "nbgrader": {
     "cell_type": "code",
     "checksum": "d7a120c3e5712096665f1472d63a7d57",
     "grade": false,
     "grade_id": "cell-solution-15",
     "locked": false,
     "schema_version": 3,
     "solution": true
    }
   },
   "outputs": [
    {
     "name": "stdout",
     "output_type": "stream",
     "text": [
      "\u001b[33mWARNING: The directory '/home/jovyan/.cache/pip' or its parent directory is not owned or is not writable by the current user. The cache has been disabled. Check the permissions and owner of that directory. If executing pip with sudo, you should use sudo's -H flag.\u001b[0m\u001b[33m\n",
      "\u001b[0mCollecting nltk\n",
      "  Downloading nltk-3.8.1-py3-none-any.whl.metadata (2.8 kB)\n",
      "Requirement already satisfied: click in /opt/conda/lib/python3.10/site-packages (from nltk) (8.1.3)\n",
      "Requirement already satisfied: joblib in /opt/conda/lib/python3.10/site-packages (from nltk) (1.2.0)\n",
      "Collecting regex>=2021.8.3 (from nltk)\n",
      "  Downloading regex-2024.5.15-cp310-cp310-manylinux_2_17_x86_64.manylinux2014_x86_64.whl.metadata (40 kB)\n",
      "\u001b[2K     \u001b[90m━━━━━━━━━━━━━━━━━━━━━━━━━━━━━━━━━━━━━━━━\u001b[0m \u001b[32m40.9/40.9 kB\u001b[0m \u001b[31m6.4 MB/s\u001b[0m eta \u001b[36m0:00:00\u001b[0m\n",
      "\u001b[?25hRequirement already satisfied: tqdm in /opt/conda/lib/python3.10/site-packages (from nltk) (4.64.1)\n",
      "Downloading nltk-3.8.1-py3-none-any.whl (1.5 MB)\n",
      "\u001b[2K   \u001b[90m━━━━━━━━━━━━━━━━━━━━━━━━━━━━━━━━━━━━━━━━\u001b[0m \u001b[32m1.5/1.5 MB\u001b[0m \u001b[31m70.7 MB/s\u001b[0m eta \u001b[36m0:00:00\u001b[0m\n",
      "\u001b[?25hDownloading regex-2024.5.15-cp310-cp310-manylinux_2_17_x86_64.manylinux2014_x86_64.whl (775 kB)\n",
      "\u001b[2K   \u001b[90m━━━━━━━━━━━━━━━━━━━━━━━━━━━━━━━━━━━━━━━\u001b[0m \u001b[32m775.1/775.1 kB\u001b[0m \u001b[31m225.6 MB/s\u001b[0m eta \u001b[36m0:00:00\u001b[0m\n",
      "\u001b[?25hInstalling collected packages: regex, nltk\n",
      "Successfully installed nltk-3.8.1 regex-2024.5.15\n",
      "\u001b[33mWARNING: Running pip as the 'root' user can result in broken permissions and conflicting behaviour with the system package manager. It is recommended to use a virtual environment instead: https://pip.pypa.io/warnings/venv\u001b[0m\u001b[33m\n",
      "\u001b[0m\n",
      "\u001b[1m[\u001b[0m\u001b[34;49mnotice\u001b[0m\u001b[1;39;49m]\u001b[0m\u001b[39;49m A new release of pip is available: \u001b[0m\u001b[31;49m24.0\u001b[0m\u001b[39;49m -> \u001b[0m\u001b[32;49m24.1.2\u001b[0m\n",
      "\u001b[1m[\u001b[0m\u001b[34;49mnotice\u001b[0m\u001b[1;39;49m]\u001b[0m\u001b[39;49m To update, run: \u001b[0m\u001b[32;49mpip install --upgrade pip\u001b[0m\n"
     ]
    }
   ],
   "source": [
    "# your code here\n",
    "! pip install nltk"
   ]
  },
  {
   "cell_type": "markdown",
   "id": "211b17f2",
   "metadata": {
    "nbgrader": {
     "grade": false,
     "grade_id": "cell-md-6",
     "locked": false,
     "schema_version": 3,
     "solution": false,
     "task": false
    }
   },
   "source": [
    "\n",
    "Implement the POS_tag(sentence) function which takes in a string and return the Part-of-Speech(POS) tag of each word in the sentence. To complete this task, you need to fulfill the requirements shown below:\n",
    "1) Convert all the characters in the sentence to lower case. \n",
    "2) Tokenize the sentence.\n",
    "3) Remove the stop words and punctuation.\n",
    "4) Conduct the pos tagging and return a list of tuples.\n"
   ]
  },
  {
   "cell_type": "code",
   "execution_count": 36,
   "id": "41e6b20f",
   "metadata": {
    "deletable": false,
    "nbgrader": {
     "cell_type": "code",
     "checksum": "3538b0e3c1ce55bd1e9293715ca52930",
     "grade": false,
     "grade_id": "cell-solution-16",
     "locked": false,
     "schema_version": 3,
     "solution": true
    }
   },
   "outputs": [
    {
     "name": "stderr",
     "output_type": "stream",
     "text": [
      "[nltk_data] Downloading package punkt to /home/jovyan/nltk_data...\n",
      "[nltk_data]   Package punkt is already up-to-date!\n",
      "[nltk_data] Downloading package averaged_perceptron_tagger to\n",
      "[nltk_data]     /home/jovyan/nltk_data...\n",
      "[nltk_data]   Package averaged_perceptron_tagger is already up-to-\n",
      "[nltk_data]       date!\n",
      "[nltk_data] Downloading package stopwords to /home/jovyan/nltk_data...\n",
      "[nltk_data]   Package stopwords is already up-to-date!\n"
     ]
    }
   ],
   "source": [
    "import string\n",
    "import nltk\n",
    "from nltk.corpus import stopwords\n",
    "from nltk.tokenize import word_tokenize\n",
    "# Download necessary NLTK data files (only need to run this once)\n",
    "nltk.download('punkt')\n",
    "nltk.download('averaged_perceptron_tagger')\n",
    "nltk.download('stopwords')\n",
    "def POS_tag(sentence):\n",
    "    # Convert sentence to lowercase\n",
    "    sentence = sentence.lower()\n",
    "    \n",
    "    # Tokenize the sentence\n",
    "    tokens = word_tokenize(sentence)\n",
    "    \n",
    "    # Remove punctuation\n",
    "    tokens = [token for token in tokens if token.isalnum()]\n",
    "    \n",
    "    # Define stop words\n",
    "    stop_words = set(stopwords.words('english'))\n",
    "    \n",
    "    # Remove stop words\n",
    "    tokens = [token for token in tokens if token not in stop_words]\n",
    "    \n",
    "    # Perform part-of-speech tagging\n",
    "    tagged_tokens = nltk.pos_tag(tokens)\n",
    "    \n",
    "    return tagged_tokens"
   ]
  },
  {
   "cell_type": "code",
   "execution_count": 39,
   "id": "e4005f52",
   "metadata": {
    "deletable": false,
    "editable": false,
    "nbgrader": {
     "cell_type": "code",
     "checksum": "bf7f424a816a6c3ec6f907a317c3964f",
     "grade": true,
     "grade_id": "cell-test-16",
     "locked": true,
     "points": 5,
     "schema_version": 3,
     "solution": false
    }
   },
   "outputs": [
    {
     "name": "stdout",
     "output_type": "stream",
     "text": [
      "test passed!\n"
     ]
    }
   ],
   "source": [
    "##########################\n",
    "### TEST YOUR SOLUTION ###\n",
    "##########################\n",
    "\n",
    "# POS_tag test\n",
    "sentence = 'The Force will be with you. Always.'\n",
    "POS_tag_test = POS_tag(sentence)\n",
    "assert POS_tag_test == [('force', 'NN'), ('always', 'RB')]\n",
    "print(\"test passed!\")\n"
   ]
  },
  {
   "cell_type": "code",
   "execution_count": 38,
   "id": "b10bd13a",
   "metadata": {},
   "outputs": [
    {
     "name": "stdout",
     "output_type": "stream",
     "text": [
      "All testings over and all tests passed-check for all cases and run again if needed\n"
     ]
    }
   ],
   "source": [
    "print(\"All testings over and all tests passed-check for all cases and run again if needed\")"
   ]
  },
  {
   "cell_type": "code",
   "execution_count": null,
   "id": "2a2aa340",
   "metadata": {},
   "outputs": [],
   "source": []
  }
 ],
 "metadata": {
  "kernelspec": {
   "display_name": "Python 3 (ipykernel)",
   "language": "python",
   "name": "python3"
  },
  "language_info": {
   "codemirror_mode": {
    "name": "ipython",
    "version": 3
   },
   "file_extension": ".py",
   "mimetype": "text/x-python",
   "name": "python",
   "nbconvert_exporter": "python",
   "pygments_lexer": "ipython3",
   "version": "3.10.6"
  }
 },
 "nbformat": 4,
 "nbformat_minor": 5
}
